{
 "cells": [
  {
   "cell_type": "code",
   "execution_count": 1,
   "metadata": {},
   "outputs": [
    {
     "name": "stdout",
     "output_type": "stream",
     "text": [
      "Requirement already satisfied: unityagents in c:\\users\\smanikar.oradev\\anaconda3\\envs\\drlnd\\lib\\site-packages (0.4.0)\n",
      "Requirement already satisfied: pyyaml in c:\\users\\smanikar.oradev\\anaconda3\\envs\\drlnd\\lib\\site-packages (from unityagents) (5.3.1)\n",
      "Requirement already satisfied: matplotlib in c:\\users\\smanikar.oradev\\anaconda3\\envs\\drlnd\\lib\\site-packages (from unityagents) (3.2.1)\n",
      "Requirement already satisfied: jupyter in c:\\users\\smanikar.oradev\\anaconda3\\envs\\drlnd\\lib\\site-packages (from unityagents) (1.0.0)\n",
      "Requirement already satisfied: numpy>=1.11.0 in c:\\users\\smanikar.oradev\\anaconda3\\envs\\drlnd\\lib\\site-packages (from unityagents) (1.18.2)\n",
      "Requirement already satisfied: protobuf==3.5.2 in c:\\users\\smanikar.oradev\\anaconda3\\envs\\drlnd\\lib\\site-packages (from unityagents) (3.5.2)\n",
      "Requirement already satisfied: grpcio==1.11.0 in c:\\users\\smanikar.oradev\\anaconda3\\envs\\drlnd\\lib\\site-packages (from unityagents) (1.11.0)\n",
      "Requirement already satisfied: tensorflow==1.7.1 in c:\\users\\smanikar.oradev\\anaconda3\\envs\\drlnd\\lib\\site-packages (from unityagents) (1.7.1)\n",
      "Requirement already satisfied: pytest>=3.2.2 in c:\\users\\smanikar.oradev\\anaconda3\\envs\\drlnd\\lib\\site-packages (from unityagents) (5.4.1)\n",
      "Requirement already satisfied: docopt in c:\\users\\smanikar.oradev\\anaconda3\\envs\\drlnd\\lib\\site-packages (from unityagents) (0.6.2)\n",
      "Requirement already satisfied: Pillow>=4.2.1 in c:\\users\\smanikar.oradev\\anaconda3\\envs\\drlnd\\lib\\site-packages (from unityagents) (7.0.0)\n",
      "Requirement already satisfied: cycler>=0.10 in c:\\users\\smanikar.oradev\\anaconda3\\envs\\drlnd\\lib\\site-packages (from matplotlib->unityagents) (0.10.0)\n",
      "Requirement already satisfied: kiwisolver>=1.0.1 in c:\\users\\smanikar.oradev\\anaconda3\\envs\\drlnd\\lib\\site-packages (from matplotlib->unityagents) (1.1.0)\n",
      "Requirement already satisfied: python-dateutil>=2.1 in c:\\users\\smanikar.oradev\\anaconda3\\envs\\drlnd\\lib\\site-packages (from matplotlib->unityagents) (2.8.1)\n",
      "Requirement already satisfied: pyparsing!=2.0.4,!=2.1.2,!=2.1.6,>=2.0.1 in c:\\users\\smanikar.oradev\\anaconda3\\envs\\drlnd\\lib\\site-packages (from matplotlib->unityagents) (2.4.6)\n",
      "Requirement already satisfied: nbconvert in c:\\users\\smanikar.oradev\\anaconda3\\envs\\drlnd\\lib\\site-packages (from jupyter->unityagents) (5.6.1)\n",
      "Requirement already satisfied: notebook in c:\\users\\smanikar.oradev\\anaconda3\\envs\\drlnd\\lib\\site-packages (from jupyter->unityagents) (6.0.3)\n",
      "Requirement already satisfied: ipykernel in c:\\users\\smanikar.oradev\\anaconda3\\envs\\drlnd\\lib\\site-packages (from jupyter->unityagents) (5.1.4)\n",
      "Requirement already satisfied: ipywidgets in c:\\users\\smanikar.oradev\\anaconda3\\envs\\drlnd\\lib\\site-packages (from jupyter->unityagents) (7.5.1)\n",
      "Requirement already satisfied: qtconsole in c:\\users\\smanikar.oradev\\anaconda3\\envs\\drlnd\\lib\\site-packages (from jupyter->unityagents) (4.7.1)\n",
      "Requirement already satisfied: jupyter-console in c:\\users\\smanikar.oradev\\anaconda3\\envs\\drlnd\\lib\\site-packages (from jupyter->unityagents) (6.1.0)\n",
      "Requirement already satisfied: setuptools in c:\\users\\smanikar.oradev\\anaconda3\\envs\\drlnd\\lib\\site-packages (from protobuf==3.5.2->unityagents) (46.1.1.post20200323)\n",
      "Requirement already satisfied: six>=1.9 in c:\\users\\smanikar.oradev\\anaconda3\\envs\\drlnd\\lib\\site-packages (from protobuf==3.5.2->unityagents) (1.14.0)\n",
      "Requirement already satisfied: gast>=0.2.0 in c:\\users\\smanikar.oradev\\anaconda3\\envs\\drlnd\\lib\\site-packages (from tensorflow==1.7.1->unityagents) (0.3.3)\n",
      "Requirement already satisfied: termcolor>=1.1.0 in c:\\users\\smanikar.oradev\\anaconda3\\envs\\drlnd\\lib\\site-packages (from tensorflow==1.7.1->unityagents) (1.1.0)\n",
      "Requirement already satisfied: astor>=0.6.0 in c:\\users\\smanikar.oradev\\anaconda3\\envs\\drlnd\\lib\\site-packages (from tensorflow==1.7.1->unityagents) (0.8.1)\n",
      "Requirement already satisfied: wheel>=0.26 in c:\\users\\smanikar.oradev\\anaconda3\\envs\\drlnd\\lib\\site-packages (from tensorflow==1.7.1->unityagents) (0.34.2)\n",
      "Requirement already satisfied: tensorboard<1.8.0,>=1.7.0 in c:\\users\\smanikar.oradev\\anaconda3\\envs\\drlnd\\lib\\site-packages (from tensorflow==1.7.1->unityagents) (1.7.0)\n",
      "Requirement already satisfied: absl-py>=0.1.6 in c:\\users\\smanikar.oradev\\anaconda3\\envs\\drlnd\\lib\\site-packages (from tensorflow==1.7.1->unityagents) (0.9.0)\n",
      "Requirement already satisfied: attrs>=17.4.0 in c:\\users\\smanikar.oradev\\anaconda3\\envs\\drlnd\\lib\\site-packages (from pytest>=3.2.2->unityagents) (19.3.0)\n",
      "Requirement already satisfied: atomicwrites>=1.0; sys_platform == \"win32\" in c:\\users\\smanikar.oradev\\anaconda3\\envs\\drlnd\\lib\\site-packages (from pytest>=3.2.2->unityagents) (1.3.0)\n",
      "Requirement already satisfied: more-itertools>=4.0.0 in c:\\users\\smanikar.oradev\\anaconda3\\envs\\drlnd\\lib\\site-packages (from pytest>=3.2.2->unityagents) (8.2.0)\n",
      "Requirement already satisfied: py>=1.5.0 in c:\\users\\smanikar.oradev\\anaconda3\\envs\\drlnd\\lib\\site-packages (from pytest>=3.2.2->unityagents) (1.8.1)\n",
      "Requirement already satisfied: wcwidth in c:\\users\\smanikar.oradev\\anaconda3\\envs\\drlnd\\lib\\site-packages (from pytest>=3.2.2->unityagents) (0.1.8)\n",
      "Requirement already satisfied: packaging in c:\\users\\smanikar.oradev\\anaconda3\\envs\\drlnd\\lib\\site-packages (from pytest>=3.2.2->unityagents) (20.3)\n",
      "Requirement already satisfied: colorama; sys_platform == \"win32\" in c:\\users\\smanikar.oradev\\anaconda3\\envs\\drlnd\\lib\\site-packages (from pytest>=3.2.2->unityagents) (0.4.3)\n",
      "Requirement already satisfied: importlib-metadata>=0.12; python_version < \"3.8\" in c:\\users\\smanikar.oradev\\anaconda3\\envs\\drlnd\\lib\\site-packages (from pytest>=3.2.2->unityagents) (1.5.0)\n",
      "Requirement already satisfied: pluggy<1.0,>=0.12 in c:\\users\\smanikar.oradev\\anaconda3\\envs\\drlnd\\lib\\site-packages (from pytest>=3.2.2->unityagents) (0.13.1)\n",
      "Requirement already satisfied: bleach in c:\\users\\smanikar.oradev\\anaconda3\\envs\\drlnd\\lib\\site-packages (from nbconvert->jupyter->unityagents) (1.5.0)\n",
      "Requirement already satisfied: pygments in c:\\users\\smanikar.oradev\\anaconda3\\envs\\drlnd\\lib\\site-packages (from nbconvert->jupyter->unityagents) (2.6.1)\n",
      "Requirement already satisfied: nbformat>=4.4 in c:\\users\\smanikar.oradev\\anaconda3\\envs\\drlnd\\lib\\site-packages (from nbconvert->jupyter->unityagents) (5.0.4)\n",
      "Requirement already satisfied: traitlets>=4.2 in c:\\users\\smanikar.oradev\\anaconda3\\envs\\drlnd\\lib\\site-packages (from nbconvert->jupyter->unityagents) (4.3.3)\n",
      "Requirement already satisfied: defusedxml in c:\\users\\smanikar.oradev\\anaconda3\\envs\\drlnd\\lib\\site-packages (from nbconvert->jupyter->unityagents) (0.6.0)\n",
      "Requirement already satisfied: mistune<2,>=0.8.1 in c:\\users\\smanikar.oradev\\anaconda3\\envs\\drlnd\\lib\\site-packages (from nbconvert->jupyter->unityagents) (0.8.4)\n",
      "Requirement already satisfied: entrypoints>=0.2.2 in c:\\users\\smanikar.oradev\\anaconda3\\envs\\drlnd\\lib\\site-packages (from nbconvert->jupyter->unityagents) (0.3)\n",
      "Requirement already satisfied: testpath in c:\\users\\smanikar.oradev\\anaconda3\\envs\\drlnd\\lib\\site-packages (from nbconvert->jupyter->unityagents) (0.4.4)\n",
      "Requirement already satisfied: jupyter-core in c:\\users\\smanikar.oradev\\anaconda3\\envs\\drlnd\\lib\\site-packages (from nbconvert->jupyter->unityagents) (4.6.1)\n",
      "Requirement already satisfied: pandocfilters>=1.4.1 in c:\\users\\smanikar.oradev\\anaconda3\\envs\\drlnd\\lib\\site-packages (from nbconvert->jupyter->unityagents) (1.4.2)\n",
      "Requirement already satisfied: jinja2>=2.4 in c:\\users\\smanikar.oradev\\anaconda3\\envs\\drlnd\\lib\\site-packages (from nbconvert->jupyter->unityagents) (2.11.1)\n",
      "Requirement already satisfied: tornado>=5.0 in c:\\users\\smanikar.oradev\\anaconda3\\envs\\drlnd\\lib\\site-packages (from notebook->jupyter->unityagents) (6.0.4)\n",
      "Requirement already satisfied: terminado>=0.8.1 in c:\\users\\smanikar.oradev\\anaconda3\\envs\\drlnd\\lib\\site-packages (from notebook->jupyter->unityagents) (0.8.3)\n",
      "Requirement already satisfied: prometheus-client in c:\\users\\smanikar.oradev\\anaconda3\\envs\\drlnd\\lib\\site-packages (from notebook->jupyter->unityagents) (0.7.1)\n",
      "Requirement already satisfied: ipython-genutils in c:\\users\\smanikar.oradev\\anaconda3\\envs\\drlnd\\lib\\site-packages (from notebook->jupyter->unityagents) (0.2.0)\n",
      "Requirement already satisfied: pyzmq>=17 in c:\\users\\smanikar.oradev\\anaconda3\\envs\\drlnd\\lib\\site-packages (from notebook->jupyter->unityagents) (18.1.1)\n",
      "Requirement already satisfied: Send2Trash in c:\\users\\smanikar.oradev\\anaconda3\\envs\\drlnd\\lib\\site-packages (from notebook->jupyter->unityagents) (1.5.0)\n",
      "Requirement already satisfied: jupyter-client>=5.3.4 in c:\\users\\smanikar.oradev\\anaconda3\\envs\\drlnd\\lib\\site-packages (from notebook->jupyter->unityagents) (6.0.0)\n",
      "Requirement already satisfied: ipython>=5.0.0 in c:\\users\\smanikar.oradev\\anaconda3\\envs\\drlnd\\lib\\site-packages (from ipykernel->jupyter->unityagents) (7.13.0)\n",
      "Requirement already satisfied: widgetsnbextension~=3.5.0 in c:\\users\\smanikar.oradev\\anaconda3\\envs\\drlnd\\lib\\site-packages (from ipywidgets->jupyter->unityagents) (3.5.1)\n",
      "Requirement already satisfied: qtpy in c:\\users\\smanikar.oradev\\anaconda3\\envs\\drlnd\\lib\\site-packages (from qtconsole->jupyter->unityagents) (1.9.0)\n",
      "Requirement already satisfied: prompt-toolkit!=3.0.0,!=3.0.1,<3.1.0,>=2.0.0 in c:\\users\\smanikar.oradev\\anaconda3\\envs\\drlnd\\lib\\site-packages (from jupyter-console->jupyter->unityagents) (3.0.3)\n",
      "Requirement already satisfied: html5lib==0.9999999 in c:\\users\\smanikar.oradev\\anaconda3\\envs\\drlnd\\lib\\site-packages (from tensorboard<1.8.0,>=1.7.0->tensorflow==1.7.1->unityagents) (0.9999999)\n",
      "Requirement already satisfied: werkzeug>=0.11.10 in c:\\users\\smanikar.oradev\\anaconda3\\envs\\drlnd\\lib\\site-packages (from tensorboard<1.8.0,>=1.7.0->tensorflow==1.7.1->unityagents) (1.0.0)\n",
      "Requirement already satisfied: markdown>=2.6.8 in c:\\users\\smanikar.oradev\\anaconda3\\envs\\drlnd\\lib\\site-packages (from tensorboard<1.8.0,>=1.7.0->tensorflow==1.7.1->unityagents) (3.2.1)\n",
      "Requirement already satisfied: zipp>=0.5 in c:\\users\\smanikar.oradev\\anaconda3\\envs\\drlnd\\lib\\site-packages (from importlib-metadata>=0.12; python_version < \"3.8\"->pytest>=3.2.2->unityagents) (3.1.0)\n",
      "Requirement already satisfied: jsonschema!=2.5.0,>=2.4 in c:\\users\\smanikar.oradev\\anaconda3\\envs\\drlnd\\lib\\site-packages (from nbformat>=4.4->nbconvert->jupyter->unityagents) (3.2.0)\n",
      "Requirement already satisfied: decorator in c:\\users\\smanikar.oradev\\anaconda3\\envs\\drlnd\\lib\\site-packages (from traitlets>=4.2->nbconvert->jupyter->unityagents) (4.4.2)\n",
      "Requirement already satisfied: pywin32>=1.0; sys_platform == \"win32\" in c:\\users\\smanikar.oradev\\anaconda3\\envs\\drlnd\\lib\\site-packages (from jupyter-core->nbconvert->jupyter->unityagents) (227)\n",
      "Requirement already satisfied: MarkupSafe>=0.23 in c:\\users\\smanikar.oradev\\anaconda3\\envs\\drlnd\\lib\\site-packages (from jinja2>=2.4->nbconvert->jupyter->unityagents) (1.1.1)\n",
      "Requirement already satisfied: pywinpty>=0.5; os_name == \"nt\" in c:\\users\\smanikar.oradev\\anaconda3\\envs\\drlnd\\lib\\site-packages (from terminado>=0.8.1->notebook->jupyter->unityagents) (0.5.7)\n",
      "Requirement already satisfied: backcall in c:\\users\\smanikar.oradev\\anaconda3\\envs\\drlnd\\lib\\site-packages (from ipython>=5.0.0->ipykernel->jupyter->unityagents) (0.1.0)\n",
      "Requirement already satisfied: pickleshare in c:\\users\\smanikar.oradev\\anaconda3\\envs\\drlnd\\lib\\site-packages (from ipython>=5.0.0->ipykernel->jupyter->unityagents) (0.7.5)\n",
      "Requirement already satisfied: jedi>=0.10 in c:\\users\\smanikar.oradev\\anaconda3\\envs\\drlnd\\lib\\site-packages (from ipython>=5.0.0->ipykernel->jupyter->unityagents) (0.16.0)\n",
      "Requirement already satisfied: pyrsistent>=0.14.0 in c:\\users\\smanikar.oradev\\anaconda3\\envs\\drlnd\\lib\\site-packages (from jsonschema!=2.5.0,>=2.4->nbformat>=4.4->nbconvert->jupyter->unityagents) (0.15.7)\n",
      "Requirement already satisfied: parso>=0.5.2 in c:\\users\\smanikar.oradev\\anaconda3\\envs\\drlnd\\lib\\site-packages (from jedi>=0.10->ipython>=5.0.0->ipykernel->jupyter->unityagents) (0.6.2)\n",
      "Note: you may need to restart the kernel to use updated packages.\n"
     ]
    }
   ],
   "source": [
    "pip install unityagents"
   ]
  },
  {
   "cell_type": "code",
   "execution_count": 2,
   "metadata": {},
   "outputs": [],
   "source": [
    "from unityagents import UnityEnvironment\n",
    "import numpy as np\n",
    "import random\n",
    "\n",
    "from collections import deque\n",
    "import matplotlib.pyplot as plt\n",
    "from ddpg_agent import Agent\n",
    "from ddpg_model import Actor, Critic\n",
    "\n",
    "import torch\n",
    "\n",
    "%matplotlib inline\n",
    "\n"
   ]
  },
  {
   "cell_type": "code",
   "execution_count": 3,
   "metadata": {},
   "outputs": [
    {
     "name": "stderr",
     "output_type": "stream",
     "text": [
      "INFO:unityagents:\n",
      "'Academy' started successfully!\n",
      "Unity Academy name: Academy\n",
      "        Number of Brains: 1\n",
      "        Number of External Brains : 1\n",
      "        Lesson number : 0\n",
      "        Reset Parameters :\n",
      "\t\tgoal_speed -> 1.0\n",
      "\t\tgoal_size -> 5.0\n",
      "Unity brain name: ReacherBrain\n",
      "        Number of Visual Observations (per agent): 0\n",
      "        Vector Observation space type: continuous\n",
      "        Vector Observation space size (per agent): 33\n",
      "        Number of stacked Vector Observation: 1\n",
      "        Vector Action space type: continuous\n",
      "        Vector Action space size (per agent): 4\n",
      "        Vector Action descriptions: , , , \n"
     ]
    },
    {
     "name": "stdout",
     "output_type": "stream",
     "text": [
      "Number of agents: 20\n",
      "Size of each action: 4\n",
      "There are 20 agents. Each observes a state with length: 33\n",
      "The state for the first agent looks like: [ 0.00000000e+00 -4.00000000e+00  0.00000000e+00  1.00000000e+00\n",
      " -0.00000000e+00 -0.00000000e+00 -4.37113883e-08  0.00000000e+00\n",
      "  0.00000000e+00  0.00000000e+00  0.00000000e+00  0.00000000e+00\n",
      "  0.00000000e+00  0.00000000e+00 -1.00000000e+01  0.00000000e+00\n",
      "  1.00000000e+00 -0.00000000e+00 -0.00000000e+00 -4.37113883e-08\n",
      "  0.00000000e+00  0.00000000e+00  0.00000000e+00  0.00000000e+00\n",
      "  0.00000000e+00  0.00000000e+00  5.75471878e+00 -1.00000000e+00\n",
      "  5.55726624e+00  0.00000000e+00  1.00000000e+00  0.00000000e+00\n",
      " -1.68164849e-01]\n"
     ]
    }
   ],
   "source": [
    "env = UnityEnvironment(file_name='Reacher_Windows_x86_64/Reacher.exe')\n",
    "\n",
    "# get the default brain\n",
    "brain_name = env.brain_names[0]\n",
    "brain = env.brains[brain_name]\n",
    "\n",
    "# reset the environment\n",
    "env_info = env.reset(train_mode=False)[brain_name]\n",
    "\n",
    "# number of agents\n",
    "num_agents = len(env_info.agents)\n",
    "print('Number of agents:', num_agents)\n",
    "\n",
    "# size of each action\n",
    "action_size = brain.vector_action_space_size\n",
    "print('Size of each action:', action_size)\n",
    "\n",
    "# examine the state space \n",
    "states = env_info.vector_observations\n",
    "state_size = states.shape[1]\n",
    "print('There are {} agents. Each observes a state with length: {}'.format(states.shape[0], state_size))\n",
    "print('The state for the first agent looks like:', states[0])"
   ]
  },
  {
   "cell_type": "code",
   "execution_count": 4,
   "metadata": {},
   "outputs": [
    {
     "name": "stdout",
     "output_type": "stream",
     "text": [
      "Initialising ReplayBuffer\n"
     ]
    }
   ],
   "source": [
    "\n",
    "\n",
    "scores = np.zeros(num_agents)\n",
    "\n",
    "device = torch.device(\"cuda:0\" if torch.cuda.is_available() else \"cpu\")\n",
    "\n",
    "random_seed=0\n",
    "Agent.actor_local = Actor(state_size, action_size, random_seed).to(device)\n",
    "Agent.actor_local.load_state_dict(torch.load('checkpoint_actor.pth'))\n",
    "\n",
    "agents =[] \n",
    "\n",
    "for i in range(num_agents):\n",
    "    agents.append(Agent(state_size, action_size, random_seed=0))\n",
    "\n"
   ]
  },
  {
   "cell_type": "code",
   "execution_count": 5,
   "metadata": {},
   "outputs": [
    {
     "name": "stdout",
     "output_type": "stream",
     "text": [
      "Score: 33.09\tmin: 27.26\tmax: 39.43\n",
      "Scores: [33.44999925 27.25999939 28.09999937 39.42999912 33.18999926 28.88999935\n",
      " 31.87999929 28.60999936 32.65999927 31.61999929 33.24999926 38.56999914\n",
      " 33.60999925 33.73999925 33.62999925 32.78999927 32.66999927 35.8699992\n",
      " 36.71999918 35.7699992 ]\n"
     ]
    }
   ],
   "source": [
    "while True:\n",
    "    actions = np.array([agents[i].act(states[i]) for i in range(num_agents)])\n",
    "\n",
    "    env_info = env.step(actions)[brain_name]        # send the action to the environment\n",
    "    next_states = env_info.vector_observations     # get the next state\n",
    "    rewards = env_info.rewards                     # get the reward\n",
    "    dones = env_info.local_done        \n",
    "\n",
    "    states = next_states\n",
    "    scores += rewards\n",
    "\n",
    "    print('\\rScore: {:.2f}\\tmin: {:.2f}\\tmax: {:.2f}'\n",
    "              .format(np.mean(scores), np.min(scores), np.max(scores)), end=\"\") \n",
    "    \n",
    "    if np.any(dones):\n",
    "        break\n",
    "        \n",
    "print(\"\\nScores: {}\".format(scores))"
   ]
  },
  {
   "cell_type": "code",
   "execution_count": null,
   "metadata": {},
   "outputs": [],
   "source": []
  }
 ],
 "metadata": {
  "kernelspec": {
   "display_name": "drlnd",
   "language": "python",
   "name": "drlnd"
  },
  "language_info": {
   "codemirror_mode": {
    "name": "ipython",
    "version": 3
   },
   "file_extension": ".py",
   "mimetype": "text/x-python",
   "name": "python",
   "nbconvert_exporter": "python",
   "pygments_lexer": "ipython3",
   "version": "3.6.10"
  }
 },
 "nbformat": 4,
 "nbformat_minor": 4
}
